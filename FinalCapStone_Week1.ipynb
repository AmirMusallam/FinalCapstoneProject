{
 "cells": [
  {
   "cell_type": "markdown",
   "metadata": {
    "colab_type": "text",
    "id": "82TVQj6hkgS0"
   },
   "source": [
    "# Coursera Capstone Project - Week 1\n",
    "**By Amir Musallam** "
   ]
  },
  {
   "cell_type": "markdown",
   "metadata": {
    "colab_type": "text",
    "id": "wAwpwfARf4W2"
   },
   "source": [
    "# 1. Introduction"
   ]
  },
  {
   "cell_type": "markdown",
   "metadata": {
    "colab_type": "text",
    "id": "SXQXL-VvgR2q"
   },
   "source": [
    "## 1.1. Background\n",
    "\n",
    "Chicago is the most populous city in the U.S. state of Illinois, and the third-most-populous city in the United States.\n",
    "Being an metropolitan city, Chicago is also home to many restaurants which serves wide variety of cuisines. Owing to significant number of Indian expatriate population, Chicago and its nearby Suburbs have quite a few Indian restaurant.\n",
    "\n",
    "This project will focus on Indian restaurants in Chicago which will be analyzed and rated using FourSquare.\n",
    "\n",
    "## 1.2. Problem Description\n",
    "\n",
    "By utilizing the Chicago restaurants inspection data, Indian Restaurants in Chicago and their risk category will be Analyzed. using the FourSquare API we will get the ratings of Indian Restaurants in Chicago.\n",
    "\n",
    "## 1.3. Target Audience\n",
    "* Market Analysis for Indian Food\n",
    "* Competitive Analysis\n",
    "* Food reviewers "
   ]
  },
  {
   "cell_type": "markdown",
   "metadata": {
    "colab_type": "text",
    "id": "sUlZ2FCPgVM2"
   },
   "source": [
    "# 2. Data"
   ]
  },
  {
   "cell_type": "markdown",
   "metadata": {
    "colab_type": "text",
    "id": "KRqdxQPBgeqI"
   },
   "source": [
    "For this project we will use the following data :\n",
    "\n",
    "1. Chicago restaurant inspection data from 2010-2020\n",
    "\n",
    "*  Data source : https://data.cityofchicago.org/api/views/4ijn-s7e5/rows.csv?accessType=DOWNLOAD\n",
    "\n",
    "*  Description : This data set contains 137,907 rows and 17 columns with Restaurant Name, Street Name, violation descriptions along with their latitude and longitude. This data will be downloaded and used.\n",
    "\n",
    "2. Ratings of Indian restaurants for selected locality in Chicago\n",
    "* Data source : Fousquare API\n",
    "\n",
    "*  Description : By using this api we will get all the ratings for Indian restaurants in selected neighborhood"
   ]
  },
  {
   "cell_type": "markdown",
   "metadata": {
    "colab_type": "text",
    "id": "_VY2Y2fUgiyT"
   },
   "source": [
    "# 3.Methodology"
   ]
  },
  {
   "cell_type": "markdown",
   "metadata": {
    "colab_type": "text",
    "id": "MG30JkY-goVz"
   },
   "source": [
    "1. Collect the Chicago Restaurants Inspection data from https://data.cityofchicago.org/api/views/4ijn-s7e5/rows.csv?accessType=DOWNLOAD\n",
    "2. Analyze the restaurants based on their risk category\n",
    "3. Filter out all venues from the inspection data that are Indian restaurants.\n",
    "4. Visualize the Indian Restaurants using folium library(python)\n",
    "5. Find rating , tips and like count for each Indian restaurants using FourSquare API."
   ]
  }
 ],
 "metadata": {
  "kernelspec": {
   "display_name": "Python",
   "language": "python",
   "name": "conda-env-python-py"
  },
  "language_info": {
   "codemirror_mode": {
    "name": "ipython",
    "version": 3
   },
   "file_extension": ".py",
   "mimetype": "text/x-python",
   "name": "python",
   "nbconvert_exporter": "python",
   "pygments_lexer": "ipython3",
   "version": "3.6.10"
  }
 },
 "nbformat": 4,
 "nbformat_minor": 4
}
